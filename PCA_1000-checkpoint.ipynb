{
 "cells": [
  {
   "cell_type": "code",
   "execution_count": 1,
   "metadata": {
    "id": "Y8yNCuNLh3k4"
   },
   "outputs": [],
   "source": [
    "import pandas as pd\n",
    "df_train = pd.read_csv(\"C:/Users/Computer Science Lap/Downloads/train.csv\")\n",
    "df_test = pd.read_csv(\"C:/Users/Computer Science Lap/Downloads/test.csv\")"
   ]
  },
  {
   "cell_type": "code",
   "execution_count": 2,
   "metadata": {},
   "outputs": [
    {
     "name": "stdout",
     "output_type": "stream",
     "text": [
      "Train_data (42000, 785)\n",
      "Test_data (28000, 784)\n"
     ]
    }
   ],
   "source": [
    "print(\"Train_data\",df_train.shape)\n",
    "print(\"Test_data\",df_test.shape)"
   ]
  },
  {
   "cell_type": "code",
   "execution_count": 3,
   "metadata": {
    "colab": {
     "base_uri": "https://localhost:8080/"
    },
    "id": "jXOTHHSSaX2D",
    "outputId": "df34fdaa-69b3-483c-a5c7-c660e653704c"
   },
   "outputs": [
    {
     "name": "stdout",
     "output_type": "stream",
     "text": [
      "Index(['label', 'pixel0', 'pixel1', 'pixel2', 'pixel3', 'pixel4', 'pixel5',\n",
      "       'pixel6', 'pixel7', 'pixel8',\n",
      "       ...\n",
      "       'pixel774', 'pixel775', 'pixel776', 'pixel777', 'pixel778', 'pixel779',\n",
      "       'pixel780', 'pixel781', 'pixel782', 'pixel783'],\n",
      "      dtype='object', length=785)\n"
     ]
    }
   ],
   "source": [
    "print(df_train.columns)"
   ]
  },
  {
   "cell_type": "code",
   "execution_count": 23,
   "metadata": {
    "id": "eArtVOkI_Rvr"
   },
   "outputs": [],
   "source": [
    "X = df_train.iloc[:,1:]\n",
    "y = df_train.iloc[:,0]"
   ]
  },
  {
   "cell_type": "code",
   "execution_count": 24,
   "metadata": {},
   "outputs": [
    {
     "name": "stdout",
     "output_type": "stream",
     "text": [
      "x (42000, 784)\n",
      "y (42000,)\n"
     ]
    }
   ],
   "source": [
    "print(\"x\",X.shape)\n",
    "print(\"y\",y.shape)"
   ]
  },
  {
   "cell_type": "code",
   "execution_count": 25,
   "metadata": {},
   "outputs": [
    {
     "name": "stdout",
     "output_type": "stream",
     "text": [
      "(520, 784)\n",
      "(520,)\n"
     ]
    }
   ],
   "source": [
    "X = X.sample(n=520, axis=0)\n",
    "y = y.sample(n=520, axis=0)\n",
    "print(X.shape)\n",
    "print(y.shape)"
   ]
  },
  {
   "cell_type": "code",
   "execution_count": 7,
   "metadata": {
    "colab": {
     "base_uri": "https://localhost:8080/"
    },
    "id": "zGthPe-dSNyh",
    "outputId": "4736d4d1-4527-4e12-ac31-6b041db4bdbe"
   },
   "outputs": [
    {
     "data": {
      "text/plain": [
       "array([1, 0, 4, 7, 3, 5, 8, 9, 2, 6], dtype=int64)"
      ]
     },
     "execution_count": 7,
     "metadata": {},
     "output_type": "execute_result"
    }
   ],
   "source": [
    "df_train[\"label\"].unique()"
   ]
  },
  {
   "cell_type": "code",
   "execution_count": 8,
   "metadata": {
    "colab": {
     "base_uri": "https://localhost:8080/",
     "height": 310
    },
    "id": "i9VlMb6G0vye",
    "outputId": "b751e92f-56d9-46c1-b507-19a3a6627fcf"
   },
   "outputs": [
    {
     "data": {
      "text/plain": [
       "<matplotlib.image.AxesImage at 0x6701598>"
      ]
     },
     "execution_count": 8,
     "metadata": {},
     "output_type": "execute_result"
    },
    {
     "data": {
      "text/plain": [
       "<Figure size 432x288 with 0 Axes>"
      ]
     },
     "metadata": {},
     "output_type": "display_data"
    },
    {
     "data": {
      "image/png": "[encoded data removed]",
      "text/plain": [
       "<Figure size 288x288 with 1 Axes>"
      ]
     },
     "metadata": {
      "needs_background": "light"
     },
     "output_type": "display_data"
    }
   ],
   "source": [
    "import numpy as np\n",
    "import matplotlib.pyplot as plt\n",
    "arr = np.array(X.iloc[4])\n",
    "plt.gray()\n",
    "plt.matshow(arr.reshape(28,28))"
   ]
  },
  {
   "cell_type": "code",
   "execution_count": 9,
   "metadata": {
    "colab": {
     "base_uri": "https://localhost:8080/"
    },
    "id": "TzF__xA9bxSR",
    "outputId": "15508b25-8c94-4099-d401-7f4b52901456"
   },
   "outputs": [],
   "source": [
    "from sklearn.preprocessing import StandardScaler\n",
    "scaler = StandardScaler()\n",
    "X_scaled = scaler.fit_transform(X)"
   ]
  },
  {
   "cell_type": "code",
   "execution_count": 10,
   "metadata": {
    "id": "H-lp4kXRTxBK"
   },
   "outputs": [],
   "source": [
    "from sklearn.decomposition import PCA\n",
    "pca_1 = PCA(n_components=300)\n",
    "pca_2 = PCA(n_components=400)\n",
    "pca_3 = PCA(n_components=500)\n",
    "X_pca = pca_1.fit_transform(X_scaled)\n"
   ]
  },
  {
   "cell_type": "code",
   "execution_count": 11,
   "metadata": {
    "id": "ofqgijCWT4UW"
   },
   "outputs": [],
   "source": [
    "from sklearn.model_selection import train_test_split\n",
    "X_train, X_test, y_train, y_test = train_test_split(X_pca, y, test_size=0.2, random_state = 30, stratify=y)"
   ]
  },
  {
   "cell_type": "code",
   "execution_count": 12,
   "metadata": {
    "colab": {
     "base_uri": "https://localhost:8080/"
    },
    "id": "JeAoXdpKEEFv",
    "outputId": "96a68bfc-33db-4c8e-89b3-58e40c9081ff"
   },
   "outputs": [
    {
     "name": "stderr",
     "output_type": "stream",
     "text": [
      "C:\\ProgramData\\Anaconda3\\lib\\site-packages\\sklearn\\linear_model\\_logistic.py:762: ConvergenceWarning: lbfgs failed to converge (status=1):\n",
      "STOP: TOTAL NO. of ITERATIONS REACHED LIMIT.\n",
      "\n",
      "Increase the number of iterations (max_iter) or scale the data as shown in:\n",
      "    https://scikit-learn.org/stable/modules/preprocessing.html\n",
      "Please also refer to the documentation for alternative solver options:\n",
      "    https://scikit-learn.org/stable/modules/linear_model.html#logistic-regression\n",
      "  n_iter_i = _check_optimize_result(\n"
     ]
    },
    {
     "data": {
      "text/plain": [
       "0.08653846153846154"
      ]
     },
     "execution_count": 12,
     "metadata": {},
     "output_type": "execute_result"
    }
   ],
   "source": [
    "from sklearn.linear_model import LogisticRegression\n",
    "model = LogisticRegression()\n",
    "model.fit(X_train, y_train)\n",
    "model.score(X_test, y_test)"
   ]
  },
  {
   "cell_type": "code",
   "execution_count": 13,
   "metadata": {
    "id": "k88LV5-eC15C"
   },
   "outputs": [],
   "source": [
    "from sklearn import svm\n",
    "clf = svm.SVC(kernel=\"rbf\")\n",
    "#Train the model using the training sets\n",
    "clf.fit(X_train, y_train)\n",
    "#Predict the response for test dataset\n",
    "y_pred = clf.predict(X_test)\n"
   ]
  },
  {
   "cell_type": "code",
   "execution_count": 14,
   "metadata": {
    "colab": {
     "base_uri": "https://localhost:8080/"
    },
    "id": "zErn0m-Xh88k",
    "outputId": "16d5158c-b8c8-4f5e-f909-bc99b93e7e0b"
   },
   "outputs": [
    {
     "name": "stdout",
     "output_type": "stream",
     "text": [
      "Accuracy using 300 components: 0.08653846153846154\n",
      "F1score using 300 components: 0.07040367423126044\n",
      "Recall using 300 components: 0.08030303030303029\n"
     ]
    }
   ],
   "source": [
    "# Import train_test_split function\n",
    "from sklearn import metrics\n",
    "# Model Accuracy: how often is the classifier correct?\n",
    "print(\"Accuracy using 300 components:\",metrics.accuracy_score(y_test, y_pred))\n",
    "print(\"F1score using 300 components:\",metrics.f1_score(y_test, y_pred, labels = [5, 0, 4, 1, 9, 2, 3, 6, 7, 8], average=\"macro\"))\n",
    "print(\"Recall using 300 components:\",metrics.recall_score(y_test, y_pred, labels = [5, 0, 4, 1, 9, 2, 3, 6, 7, 8], average=\"macro\"))\n"
   ]
  },
  {
   "cell_type": "code",
   "execution_count": 15,
   "metadata": {
    "id": "6A98SzzfiI1T"
   },
   "outputs": [],
   "source": [
    "X2_pca = pca_2.fit_transform(X_scaled)\n",
    "from sklearn.model_selection import train_test_split\n",
    "X_train, X_test, y_train, y_test = train_test_split(X2_pca, y, test_size=0.2, random_state = 30, stratify=y)"
   ]
  },
  {
   "cell_type": "code",
   "execution_count": 16,
   "metadata": {
    "id": "jxaJxanO4tz4"
   },
   "outputs": [],
   "source": [
    "from sklearn import svm\n",
    "clf = svm.SVC(kernel=\"rbf\")\n",
    "#Train the model using the training sets\n",
    "clf.fit(X_train, y_train)\n",
    "#Predict the response for test dataset\n",
    "y_pred = clf.predict(X_test)"
   ]
  },
  {
   "cell_type": "code",
   "execution_count": 17,
   "metadata": {
    "colab": {
     "base_uri": "https://localhost:8080/"
    },
    "id": "6kOioDIViM67",
    "outputId": "4a876c79-20de-4322-e4d6-8496dfae9766"
   },
   "outputs": [
    {
     "name": "stdout",
     "output_type": "stream",
     "text": [
      "Accuracy using 300 components: 0.08653846153846154\n",
      "F1score using 300 components: 0.06940367423126044\n",
      "Recall using 300 components: 0.08030303030303029\n"
     ]
    }
   ],
   "source": [
    "# Import train_test_split function\n",
    "from sklearn import metrics\n",
    "# Model Accuracy: how often is the classifier correct?\n",
    "print(\"Accuracy using 300 components:\",metrics.accuracy_score(y_test, y_pred))\n",
    "print(\"F1score using 300 components:\",metrics.f1_score(y_test, y_pred, labels = [5, 0, 4, 1, 9, 2, 3, 6, 7, 8], average=\"macro\"))\n",
    "print(\"Recall using 300 components:\",metrics.recall_score(y_test, y_pred, labels = [5, 0, 4, 1, 9, 2, 3, 6, 7, 8], average=\"macro\"))\n"
   ]
  },
  {
   "cell_type": "code",
   "execution_count": 18,
   "metadata": {
    "id": "8PHzpv8PP-3S"
   },
   "outputs": [],
   "source": [
    "X3_pca = pca_3.fit_transform(X_scaled)\n",
    "from sklearn.model_selection import train_test_split\n",
    "X_train, X_test, y_train, y_test = train_test_split(X3_pca, y, test_size=0.2, random_state = 30, stratify=y)"
   ]
  },
  {
   "cell_type": "code",
   "execution_count": 19,
   "metadata": {
    "id": "w-LaD4bxQ-k5"
   },
   "outputs": [],
   "source": [
    "from sklearn import svm\n",
    "clf = svm.SVC(kernel=\"rbf\")\n",
    "#Train the model using the training sets\n",
    "clf.fit(X_train, y_train)\n",
    "#Predict the response for test dataset\n",
    "y_pred = clf.predict(X_test)"
   ]
  },
  {
   "cell_type": "code",
   "execution_count": 20,
   "metadata": {
    "colab": {
     "base_uri": "https://localhost:8080/"
    },
    "id": "NMPzmIajzFB-",
    "outputId": "fb90cb6a-306e-4b03-9335-246c2deb4827"
   },
   "outputs": [
    {
     "name": "stdout",
     "output_type": "stream",
     "text": [
      "Accuracy using 500 components: 0.08653846153846154\n",
      "F1score using 500 components: 0.06883597883597883\n",
      "Recall using 500 components: 0.08030303030303029\n"
     ]
    }
   ],
   "source": [
    "# Import train_test_split function\n",
    "from sklearn import metrics\n",
    "# Model Accuracy: how often is the classifier correct?\n",
    "print(\"Accuracy using 500 components:\",metrics.accuracy_score(y_test, y_pred))\n",
    "print(\"F1score using 500 components:\",metrics.f1_score(y_test, y_pred, labels = [5, 0, 4, 1, 9, 2, 3, 6, 7, 8], average=\"macro\"))\n",
    "print(\"Recall using 500 components:\",metrics.recall_score(y_test, y_pred, labels = [5, 0, 4, 1, 9, 2, 3, 6, 7, 8], average=\"macro\"))\n"
   ]
  },
  {
   "cell_type": "code",
   "execution_count": 21,
   "metadata": {
    "colab": {
     "base_uri": "https://localhost:8080/"
    },
    "id": "LwdPqqrG00cV",
    "outputId": "b8968a8f-9b74-4a0d-c412-aecdc0399cd1"
   },
   "outputs": [
    {
     "data": {
      "text/plain": [
       "(416, 500)"
      ]
     },
     "execution_count": 21,
     "metadata": {},
     "output_type": "execute_result"
    }
   ],
   "source": [
    "X_train.shape"
   ]
  },
  {
   "cell_type": "code",
   "execution_count": 22,
   "metadata": {
    "colab": {
     "base_uri": "https://localhost:8080/"
    },
    "id": "ZWeNbsVa02Et",
    "outputId": "d5c2b97f-7293-45ae-e610-1aea28a5ec36"
   },
   "outputs": [
    {
     "data": {
      "text/plain": [
       "array([5, 7, 7, 0, 3, 0, 8, 8, 8, 4, 8, 3, 3, 6, 8, 5, 9, 0, 8, 7, 8, 7,\n",
       "       5, 8, 4, 7, 7, 3, 3, 4, 3, 3, 0, 7, 6, 0, 5, 7, 0, 6, 3, 9, 3, 6,\n",
       "       9, 6, 0, 9, 0, 8, 8, 8, 5, 6, 8, 4, 5, 7, 7, 3, 4, 0, 5, 2, 0, 0,\n",
       "       7, 6, 3, 9, 8, 0, 5, 6, 5, 0, 4, 9, 5, 5, 5, 6, 5, 3, 3, 5, 4, 3,\n",
       "       6, 0, 7, 6, 7, 7, 2, 9, 7, 3, 3, 8, 3, 0, 7, 0], dtype=int64)"
      ]
     },
     "execution_count": 22,
     "metadata": {},
     "output_type": "execute_result"
    }
   ],
   "source": [
    "y_pred"
   ]
  },
  {
   "cell_type": "code",
   "execution_count": null,
   "metadata": {
    "id": "HFGjUO_7uElC"
   },
   "outputs": [],
   "source": []
  }
 ],
 "metadata": {
  "colab": {
   "name": "Copy of PCA 1000 Features.ipynb",
   "provenance": []
  },
  "kernelspec": {
   "display_name": "Python 3",
   "language": "python",
   "name": "python3"
  },
  "language_info": {
   "codemirror_mode": {
    "name": "ipython",
    "version": 3
   },
   "file_extension": ".py",
   "mimetype": "text/x-python",
   "name": "python",
   "nbconvert_exporter": "python",
   "pygments_lexer": "ipython3",
   "version": "3.8.5"
  }
 },
 "nbformat": 4,
 "nbformat_minor": 1
}
